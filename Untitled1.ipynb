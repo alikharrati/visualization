{
  "nbformat": 4,
  "nbformat_minor": 0,
  "metadata": {
    "colab": {
      "provenance": [],
      "authorship_tag": "ABX9TyP/q8MxrOYX0sUqBJIEEWaJ",
      "include_colab_link": true
    },
    "kernelspec": {
      "name": "python3",
      "display_name": "Python 3"
    },
    "language_info": {
      "name": "python"
    }
  },
  "cells": [
    {
      "cell_type": "markdown",
      "metadata": {
        "id": "view-in-github",
        "colab_type": "text"
      },
      "source": [
        "<a href=\"https://colab.research.google.com/github/alikharrati/visualization/blob/main/Untitled1.ipynb\" target=\"_parent\"><img src=\"https://colab.research.google.com/assets/colab-badge.svg\" alt=\"Open In Colab\"/></a>"
      ]
    },
    {
      "cell_type": "code",
      "execution_count": 9,
      "metadata": {
        "id": "EwkMPUsXHjZN",
        "colab": {
          "base_uri": "https://localhost:8080/",
          "height": 542
        },
        "outputId": "0c795d7e-b76d-4b0c-d450-4b2ecdf13b5d"
      },
      "outputs": [
        {
          "output_type": "display_data",
          "data": {
            "text/html": [
              "<html>\n",
              "<head><meta charset=\"utf-8\" /></head>\n",
              "<body>\n",
              "    <div>            <script src=\"https://cdnjs.cloudflare.com/ajax/libs/mathjax/2.7.5/MathJax.js?config=TeX-AMS-MML_SVG\"></script><script type=\"text/javascript\">if (window.MathJax && window.MathJax.Hub && window.MathJax.Hub.Config) {window.MathJax.Hub.Config({SVG: {font: \"STIX-Web\"}});}</script>                <script type=\"text/javascript\">window.PlotlyConfig = {MathJaxConfig: 'local'};</script>\n",
              "        <script charset=\"utf-8\" src=\"https://cdn.plot.ly/plotly-2.24.1.min.js\"></script>                <div id=\"d39070da-ce3c-4bcf-8985-b6a97227dea7\" class=\"plotly-graph-div\" style=\"height:525px; width:100%;\"></div>            <script type=\"text/javascript\">                                    window.PLOTLYENV=window.PLOTLYENV || {};                                    if (document.getElementById(\"d39070da-ce3c-4bcf-8985-b6a97227dea7\")) {                    Plotly.newPlot(                        \"d39070da-ce3c-4bcf-8985-b6a97227dea7\",                        [{\"domain\":{\"x\":[0.0,1.0],\"y\":[0.0,1.0]},\"hovertemplate\":\"%{label}\\u003cbr\\u003eTotal: %{value}\\u003cbr\\u003e%{customdata}\",\"labels\":[\"Accommodation and food services\",\"Agriculture\",\"Business, building and other support services\",\"Construction\",\"Educational services\",\"Finance, insurance, real estate and leasing\",\"Fishing, hunting and trapping\",\"Forestry\",\"Health care and social assistance\",\"Information, culture and recreation\",\"Manufacturing\",\"Mining and quarrying\",\"Other services (not elsewhere classified)\",\"Professional, scientific and technical services\",\"Public administration\",\"Retail trade\",\"Transportation and warehousing\",\"Utilities\",\"Wholesale trade\"],\"legendgroup\":\"\",\"name\":\"\",\"showlegend\":true,\"values\":[3966,649,1286,4123,4950,3089,296,371,11390,632,1974,468,3059,1805,3178,9866,2930,354,861],\"type\":\"pie\",\"customdata\":[\"NOC 65201: 1281 jobs\\u003cbr\\u003eNOC 60030: 1049 jobs\\u003cbr\\u003eNOC 63200: 903 jobs\\u003cbr\\u003eNOC 62020: 375 jobs\\u003cbr\\u003eNOC 65200: 358 jobs\",\"NOC 80020: 447 jobs\\u003cbr\\u003eNOC 84120: 97 jobs\\u003cbr\\u003eNOC 85100: 45 jobs\\u003cbr\\u003eNOC 80022: 34 jobs\\u003cbr\\u003eNOC 18: 26 jobs\",\"NOC 64409: 366 jobs\\u003cbr\\u003eNOC 65310: 350 jobs\\u003cbr\\u003eNOC 64410: 259 jobs\\u003cbr\\u003eNOC 65312: 227 jobs\\u003cbr\\u003eNOC 85121: 84 jobs\",\"NOC 72310: 1371 jobs\\u003cbr\\u003eNOC 75110: 1229 jobs\\u003cbr\\u003eNOC 73400: 586 jobs\\u003cbr\\u003eNOC 72200: 487 jobs\\u003cbr\\u003eNOC 73300: 450 jobs\",\"NOC 41221: 1612 jobs\\u003cbr\\u003eNOC 43100: 1321 jobs\\u003cbr\\u003eNOC 41220: 901 jobs\\u003cbr\\u003eNOC 65312: 568 jobs\\u003cbr\\u003eNOC 41200: 548 jobs\",\"NOC 63100: 780 jobs\\u003cbr\\u003eNOC 63101: 751 jobs\\u003cbr\\u003eNOC 64400: 590 jobs\\u003cbr\\u003eNOC 11102: 569 jobs\\u003cbr\\u003eNOC 10021: 399 jobs\",\"NOC 83121: 114 jobs\\u003cbr\\u003eNOC 84121: 111 jobs\\u003cbr\\u003eNOC 74203: 40 jobs\\u003cbr\\u003eNOC 95107: 17 jobs\\u003cbr\\u003eNOC 73300: 14 jobs\",\"NOC 84111: 96 jobs\\u003cbr\\u003eNOC 82010: 81 jobs\\u003cbr\\u003eNOC 22112: 74 jobs\\u003cbr\\u003eNOC 83110: 63 jobs\\u003cbr\\u003eNOC 84110: 57 jobs\",\"NOC 31301: 3954 jobs\\u003cbr\\u003eNOC 33102: 3765 jobs\\u003cbr\\u003eNOC 32101: 1247 jobs\\u003cbr\\u003eNOC 44101: 1223 jobs\\u003cbr\\u003eNOC 42202: 1201 jobs\",\"NOC 65211: 141 jobs\\u003cbr\\u003eNOC 54100: 141 jobs\\u003cbr\\u003eNOC 85121: 126 jobs\\u003cbr\\u003eNOC 64409: 124 jobs\\u003cbr\\u003eNOC 50012: 100 jobs\",\"NOC 95107: 516 jobs\\u003cbr\\u003eNOC 94142: 436 jobs\\u003cbr\\u003eNOC 90010: 362 jobs\\u003cbr\\u003eNOC 73300: 351 jobs\\u003cbr\\u003eNOC 95106: 309 jobs\",\"NOC 73400: 132 jobs\\u003cbr\\u003eNOC 83100: 112 jobs\\u003cbr\\u003eNOC 72400: 75 jobs\\u003cbr\\u003eNOC 64409: 51 jobs\\u003cbr\\u003eNOC 73300: 49 jobs\\u003cbr\\u003eNOC 82020: 49 jobs\",\"NOC 63210: 990 jobs\\u003cbr\\u003eNOC 72410: 955 jobs\\u003cbr\\u003eNOC 41302: 480 jobs\\u003cbr\\u003eNOC 63211: 356 jobs\\u003cbr\\u003eNOC 18: 278 jobs\",\"NOC 41101: 468 jobs\\u003cbr\\u003eNOC 11100: 356 jobs\\u003cbr\\u003eNOC 21300: 333 jobs\\u003cbr\\u003eNOC 18: 328 jobs\\u003cbr\\u003eNOC 12200: 320 jobs\",\"NOC 11200: 899 jobs\\u003cbr\\u003eNOC 43204: 696 jobs\\u003cbr\\u003eNOC 42100: 532 jobs\\u003cbr\\u003eNOC 12104: 526 jobs\\u003cbr\\u003eNOC 13100: 525 jobs\",\"NOC 64100: 3390 jobs\\u003cbr\\u003eNOC 60020: 3123 jobs\\u003cbr\\u003eNOC 65100: 2006 jobs\\u003cbr\\u003eNOC 65102: 977 jobs\\u003cbr\\u003eNOC 62010: 370 jobs\",\"NOC 73300: 2336 jobs\\u003cbr\\u003eNOC 74101: 184 jobs\\u003cbr\\u003eNOC 70020: 155 jobs\\u003cbr\\u003eNOC 75101: 148 jobs\\u003cbr\\u003eNOC 73301: 107 jobs\",\"NOC 92100: 134 jobs\\u003cbr\\u003eNOC 92011: 88 jobs\\u003cbr\\u003eNOC 92101: 56 jobs\\u003cbr\\u003eNOC 72203: 46 jobs\\u003cbr\\u003eNOC 21310: 30 jobs\",\"NOC 60020: 326 jobs\\u003cbr\\u003eNOC 64100: 143 jobs\\u003cbr\\u003eNOC 64101: 138 jobs\\u003cbr\\u003eNOC 73300: 131 jobs\\u003cbr\\u003eNOC 62100: 123 jobs\"]}],                        {\"template\":{\"data\":{\"histogram2dcontour\":[{\"type\":\"histogram2dcontour\",\"colorbar\":{\"outlinewidth\":0,\"ticks\":\"\"},\"colorscale\":[[0.0,\"#0d0887\"],[0.1111111111111111,\"#46039f\"],[0.2222222222222222,\"#7201a8\"],[0.3333333333333333,\"#9c179e\"],[0.4444444444444444,\"#bd3786\"],[0.5555555555555556,\"#d8576b\"],[0.6666666666666666,\"#ed7953\"],[0.7777777777777778,\"#fb9f3a\"],[0.8888888888888888,\"#fdca26\"],[1.0,\"#f0f921\"]]}],\"choropleth\":[{\"type\":\"choropleth\",\"colorbar\":{\"outlinewidth\":0,\"ticks\":\"\"}}],\"histogram2d\":[{\"type\":\"histogram2d\",\"colorbar\":{\"outlinewidth\":0,\"ticks\":\"\"},\"colorscale\":[[0.0,\"#0d0887\"],[0.1111111111111111,\"#46039f\"],[0.2222222222222222,\"#7201a8\"],[0.3333333333333333,\"#9c179e\"],[0.4444444444444444,\"#bd3786\"],[0.5555555555555556,\"#d8576b\"],[0.6666666666666666,\"#ed7953\"],[0.7777777777777778,\"#fb9f3a\"],[0.8888888888888888,\"#fdca26\"],[1.0,\"#f0f921\"]]}],\"heatmap\":[{\"type\":\"heatmap\",\"colorbar\":{\"outlinewidth\":0,\"ticks\":\"\"},\"colorscale\":[[0.0,\"#0d0887\"],[0.1111111111111111,\"#46039f\"],[0.2222222222222222,\"#7201a8\"],[0.3333333333333333,\"#9c179e\"],[0.4444444444444444,\"#bd3786\"],[0.5555555555555556,\"#d8576b\"],[0.6666666666666666,\"#ed7953\"],[0.7777777777777778,\"#fb9f3a\"],[0.8888888888888888,\"#fdca26\"],[1.0,\"#f0f921\"]]}],\"heatmapgl\":[{\"type\":\"heatmapgl\",\"colorbar\":{\"outlinewidth\":0,\"ticks\":\"\"},\"colorscale\":[[0.0,\"#0d0887\"],[0.1111111111111111,\"#46039f\"],[0.2222222222222222,\"#7201a8\"],[0.3333333333333333,\"#9c179e\"],[0.4444444444444444,\"#bd3786\"],[0.5555555555555556,\"#d8576b\"],[0.6666666666666666,\"#ed7953\"],[0.7777777777777778,\"#fb9f3a\"],[0.8888888888888888,\"#fdca26\"],[1.0,\"#f0f921\"]]}],\"contourcarpet\":[{\"type\":\"contourcarpet\",\"colorbar\":{\"outlinewidth\":0,\"ticks\":\"\"}}],\"contour\":[{\"type\":\"contour\",\"colorbar\":{\"outlinewidth\":0,\"ticks\":\"\"},\"colorscale\":[[0.0,\"#0d0887\"],[0.1111111111111111,\"#46039f\"],[0.2222222222222222,\"#7201a8\"],[0.3333333333333333,\"#9c179e\"],[0.4444444444444444,\"#bd3786\"],[0.5555555555555556,\"#d8576b\"],[0.6666666666666666,\"#ed7953\"],[0.7777777777777778,\"#fb9f3a\"],[0.8888888888888888,\"#fdca26\"],[1.0,\"#f0f921\"]]}],\"surface\":[{\"type\":\"surface\",\"colorbar\":{\"outlinewidth\":0,\"ticks\":\"\"},\"colorscale\":[[0.0,\"#0d0887\"],[0.1111111111111111,\"#46039f\"],[0.2222222222222222,\"#7201a8\"],[0.3333333333333333,\"#9c179e\"],[0.4444444444444444,\"#bd3786\"],[0.5555555555555556,\"#d8576b\"],[0.6666666666666666,\"#ed7953\"],[0.7777777777777778,\"#fb9f3a\"],[0.8888888888888888,\"#fdca26\"],[1.0,\"#f0f921\"]]}],\"mesh3d\":[{\"type\":\"mesh3d\",\"colorbar\":{\"outlinewidth\":0,\"ticks\":\"\"}}],\"scatter\":[{\"fillpattern\":{\"fillmode\":\"overlay\",\"size\":10,\"solidity\":0.2},\"type\":\"scatter\"}],\"parcoords\":[{\"type\":\"parcoords\",\"line\":{\"colorbar\":{\"outlinewidth\":0,\"ticks\":\"\"}}}],\"scatterpolargl\":[{\"type\":\"scatterpolargl\",\"marker\":{\"colorbar\":{\"outlinewidth\":0,\"ticks\":\"\"}}}],\"bar\":[{\"error_x\":{\"color\":\"#2a3f5f\"},\"error_y\":{\"color\":\"#2a3f5f\"},\"marker\":{\"line\":{\"color\":\"#E5ECF6\",\"width\":0.5},\"pattern\":{\"fillmode\":\"overlay\",\"size\":10,\"solidity\":0.2}},\"type\":\"bar\"}],\"scattergeo\":[{\"type\":\"scattergeo\",\"marker\":{\"colorbar\":{\"outlinewidth\":0,\"ticks\":\"\"}}}],\"scatterpolar\":[{\"type\":\"scatterpolar\",\"marker\":{\"colorbar\":{\"outlinewidth\":0,\"ticks\":\"\"}}}],\"histogram\":[{\"marker\":{\"pattern\":{\"fillmode\":\"overlay\",\"size\":10,\"solidity\":0.2}},\"type\":\"histogram\"}],\"scattergl\":[{\"type\":\"scattergl\",\"marker\":{\"colorbar\":{\"outlinewidth\":0,\"ticks\":\"\"}}}],\"scatter3d\":[{\"type\":\"scatter3d\",\"line\":{\"colorbar\":{\"outlinewidth\":0,\"ticks\":\"\"}},\"marker\":{\"colorbar\":{\"outlinewidth\":0,\"ticks\":\"\"}}}],\"scattermapbox\":[{\"type\":\"scattermapbox\",\"marker\":{\"colorbar\":{\"outlinewidth\":0,\"ticks\":\"\"}}}],\"scatterternary\":[{\"type\":\"scatterternary\",\"marker\":{\"colorbar\":{\"outlinewidth\":0,\"ticks\":\"\"}}}],\"scattercarpet\":[{\"type\":\"scattercarpet\",\"marker\":{\"colorbar\":{\"outlinewidth\":0,\"ticks\":\"\"}}}],\"carpet\":[{\"aaxis\":{\"endlinecolor\":\"#2a3f5f\",\"gridcolor\":\"white\",\"linecolor\":\"white\",\"minorgridcolor\":\"white\",\"startlinecolor\":\"#2a3f5f\"},\"baxis\":{\"endlinecolor\":\"#2a3f5f\",\"gridcolor\":\"white\",\"linecolor\":\"white\",\"minorgridcolor\":\"white\",\"startlinecolor\":\"#2a3f5f\"},\"type\":\"carpet\"}],\"table\":[{\"cells\":{\"fill\":{\"color\":\"#EBF0F8\"},\"line\":{\"color\":\"white\"}},\"header\":{\"fill\":{\"color\":\"#C8D4E3\"},\"line\":{\"color\":\"white\"}},\"type\":\"table\"}],\"barpolar\":[{\"marker\":{\"line\":{\"color\":\"#E5ECF6\",\"width\":0.5},\"pattern\":{\"fillmode\":\"overlay\",\"size\":10,\"solidity\":0.2}},\"type\":\"barpolar\"}],\"pie\":[{\"automargin\":true,\"type\":\"pie\"}]},\"layout\":{\"autotypenumbers\":\"strict\",\"colorway\":[\"#636efa\",\"#EF553B\",\"#00cc96\",\"#ab63fa\",\"#FFA15A\",\"#19d3f3\",\"#FF6692\",\"#B6E880\",\"#FF97FF\",\"#FECB52\"],\"font\":{\"color\":\"#2a3f5f\"},\"hovermode\":\"closest\",\"hoverlabel\":{\"align\":\"left\"},\"paper_bgcolor\":\"white\",\"plot_bgcolor\":\"#E5ECF6\",\"polar\":{\"bgcolor\":\"#E5ECF6\",\"angularaxis\":{\"gridcolor\":\"white\",\"linecolor\":\"white\",\"ticks\":\"\"},\"radialaxis\":{\"gridcolor\":\"white\",\"linecolor\":\"white\",\"ticks\":\"\"}},\"ternary\":{\"bgcolor\":\"#E5ECF6\",\"aaxis\":{\"gridcolor\":\"white\",\"linecolor\":\"white\",\"ticks\":\"\"},\"baxis\":{\"gridcolor\":\"white\",\"linecolor\":\"white\",\"ticks\":\"\"},\"caxis\":{\"gridcolor\":\"white\",\"linecolor\":\"white\",\"ticks\":\"\"}},\"coloraxis\":{\"colorbar\":{\"outlinewidth\":0,\"ticks\":\"\"}},\"colorscale\":{\"sequential\":[[0.0,\"#0d0887\"],[0.1111111111111111,\"#46039f\"],[0.2222222222222222,\"#7201a8\"],[0.3333333333333333,\"#9c179e\"],[0.4444444444444444,\"#bd3786\"],[0.5555555555555556,\"#d8576b\"],[0.6666666666666666,\"#ed7953\"],[0.7777777777777778,\"#fb9f3a\"],[0.8888888888888888,\"#fdca26\"],[1.0,\"#f0f921\"]],\"sequentialminus\":[[0.0,\"#0d0887\"],[0.1111111111111111,\"#46039f\"],[0.2222222222222222,\"#7201a8\"],[0.3333333333333333,\"#9c179e\"],[0.4444444444444444,\"#bd3786\"],[0.5555555555555556,\"#d8576b\"],[0.6666666666666666,\"#ed7953\"],[0.7777777777777778,\"#fb9f3a\"],[0.8888888888888888,\"#fdca26\"],[1.0,\"#f0f921\"]],\"diverging\":[[0,\"#8e0152\"],[0.1,\"#c51b7d\"],[0.2,\"#de77ae\"],[0.3,\"#f1b6da\"],[0.4,\"#fde0ef\"],[0.5,\"#f7f7f7\"],[0.6,\"#e6f5d0\"],[0.7,\"#b8e186\"],[0.8,\"#7fbc41\"],[0.9,\"#4d9221\"],[1,\"#276419\"]]},\"xaxis\":{\"gridcolor\":\"white\",\"linecolor\":\"white\",\"ticks\":\"\",\"title\":{\"standoff\":15},\"zerolinecolor\":\"white\",\"automargin\":true,\"zerolinewidth\":2},\"yaxis\":{\"gridcolor\":\"white\",\"linecolor\":\"white\",\"ticks\":\"\",\"title\":{\"standoff\":15},\"zerolinecolor\":\"white\",\"automargin\":true,\"zerolinewidth\":2},\"scene\":{\"xaxis\":{\"backgroundcolor\":\"#E5ECF6\",\"gridcolor\":\"white\",\"linecolor\":\"white\",\"showbackground\":true,\"ticks\":\"\",\"zerolinecolor\":\"white\",\"gridwidth\":2},\"yaxis\":{\"backgroundcolor\":\"#E5ECF6\",\"gridcolor\":\"white\",\"linecolor\":\"white\",\"showbackground\":true,\"ticks\":\"\",\"zerolinecolor\":\"white\",\"gridwidth\":2},\"zaxis\":{\"backgroundcolor\":\"#E5ECF6\",\"gridcolor\":\"white\",\"linecolor\":\"white\",\"showbackground\":true,\"ticks\":\"\",\"zerolinecolor\":\"white\",\"gridwidth\":2}},\"shapedefaults\":{\"line\":{\"color\":\"#2a3f5f\"}},\"annotationdefaults\":{\"arrowcolor\":\"#2a3f5f\",\"arrowhead\":0,\"arrowwidth\":1},\"geo\":{\"bgcolor\":\"white\",\"landcolor\":\"#E5ECF6\",\"subunitcolor\":\"white\",\"showland\":true,\"showlakes\":true,\"lakecolor\":\"white\"},\"title\":{\"x\":0.05},\"mapbox\":{\"style\":\"light\"}}},\"legend\":{\"tracegroupgap\":0},\"title\":{\"text\":\"Total Employment by Sector\"}},                        {\"responsive\": true}                    ).then(function(){\n",
              "                            \n",
              "var gd = document.getElementById('d39070da-ce3c-4bcf-8985-b6a97227dea7');\n",
              "var x = new MutationObserver(function (mutations, observer) {{\n",
              "        var display = window.getComputedStyle(gd).display;\n",
              "        if (!display || display === 'none') {{\n",
              "            console.log([gd, 'removed!']);\n",
              "            Plotly.purge(gd);\n",
              "            observer.disconnect();\n",
              "        }}\n",
              "}});\n",
              "\n",
              "// Listen for the removal of the full notebook cells\n",
              "var notebookContainer = gd.closest('#notebook-container');\n",
              "if (notebookContainer) {{\n",
              "    x.observe(notebookContainer, {childList: true});\n",
              "}}\n",
              "\n",
              "// Listen for the clearing of the current output cell\n",
              "var outputEl = gd.closest('.output');\n",
              "if (outputEl) {{\n",
              "    x.observe(outputEl, {childList: true});\n",
              "}}\n",
              "\n",
              "                        })                };                            </script>        </div>\n",
              "</body>\n",
              "</html>"
            ]
          },
          "metadata": {}
        }
      ],
      "source": [
        "import pandas as pd\n",
        "import plotly.express as px\n",
        "\n",
        "# Load the dataset from the provided URL\n",
        "url = 'https://raw.githubusercontent.com/alikharrati/visualization/main/job_forecast_transformed_dataset.csv'\n",
        "transformed_dataset = pd.read_csv(url)\n",
        "\n",
        "# Aggregate data to get total employment by sector\n",
        "sector_totals = transformed_dataset.groupby('Sector')['Employment'].sum().reset_index()\n",
        "\n",
        "# Create a pie chart\n",
        "fig = px.pie(sector_totals, values='Employment', names='Sector', title='Total Employment by Sector')\n",
        "\n",
        "# Add hover information for each sector\n",
        "hover_info = []\n",
        "for sector in sector_totals['Sector']:\n",
        "    sector_data = transformed_dataset[transformed_dataset['Sector'] == sector]\n",
        "    hover_text = sector_data.apply(lambda row: f\"NOC {row['NOC']}: {row['Employment']} jobs\", axis=1).tolist()\n",
        "    hover_info.append(\"<br>\".join(hover_text))\n",
        "\n",
        "fig.data[0].hovertemplate = '%{label}<br>Total: %{value}<br>%{customdata}'\n",
        "fig.data[0].customdata = hover_info\n",
        "\n",
        "# Show the plot\n",
        "fig.show()\n",
        "\n"
      ]
    }
  ]
}